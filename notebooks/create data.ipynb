{
 "cells": [
  {
   "cell_type": "markdown",
   "metadata": {},
   "source": [
    "download data"
   ]
  },
  {
   "cell_type": "code",
   "execution_count": 1,
   "metadata": {},
   "outputs": [],
   "source": [
    "import os\n",
    "import csv\n",
    "from urllib.request import urlretrieve\n",
    "import numpy as np\n",
    "import pandas as pd"
   ]
  },
  {
   "cell_type": "code",
   "execution_count": 2,
   "metadata": {},
   "outputs": [],
   "source": [
    "data = '../data/'"
   ]
  },
  {
   "cell_type": "code",
   "execution_count": 3,
   "metadata": {},
   "outputs": [],
   "source": [
    "if not os.path.exists(data):\n",
    "    os.makedirs(data)\n",
    "for target_dir in ('curated', 'raw'):\n",
    "    if not os.path.exists(data + target_dir):\n",
    "        os.makedirs(data + target_dir)"
   ]
  },
  {
   "cell_type": "markdown",
   "metadata": {},
   "source": [
    "#### extra data"
   ]
  },
  {
   "cell_type": "code",
   "execution_count": 4,
   "metadata": {},
   "outputs": [],
   "source": [
    "taxi_zone_url = 'https://d37ci6vzurychx.cloudfront.net/misc/taxi+_zone_lookup.csv'\n",
    "taxi_zone_dir = data + 'raw'"
   ]
  },
  {
   "cell_type": "code",
   "execution_count": 5,
   "metadata": {},
   "outputs": [
    {
     "data": {
      "text/plain": [
       "('../data/raw/taxi_zones.csv', <http.client.HTTPMessage at 0x7f2f583b8f40>)"
      ]
     },
     "execution_count": 5,
     "metadata": {},
     "output_type": "execute_result"
    }
   ],
   "source": [
    "#Download NYC taxi zone\n",
    "taxi_zone = f\"{taxi_zone_dir}/taxi_zones.csv\"\n",
    "urlretrieve(taxi_zone_url, taxi_zone)"
   ]
  },
  {
   "cell_type": "code",
   "execution_count": 6,
   "metadata": {},
   "outputs": [],
   "source": [
    "extra_url = \"https://raw.githubusercontent.com/nychealth/coronavirus-data/355635b35f482252d2527f141679a1264a4bc946/trends/data-by-day.csv\"\n",
    "extra_dir = data + 'raw'"
   ]
  },
  {
   "cell_type": "code",
   "execution_count": 7,
   "metadata": {},
   "outputs": [
    {
     "data": {
      "text/plain": [
       "('../data/raw/data-by-day.csv', <http.client.HTTPMessage at 0x7f2f490f4e80>)"
      ]
     },
     "execution_count": 7,
     "metadata": {},
     "output_type": "execute_result"
    }
   ],
   "source": [
    "# Download NYC daily COVID-19 case data by area\n",
    "extra = f\"{extra_dir}/data-by-day.csv\"\n",
    "urlretrieve(extra_url, extra)"
   ]
  },
  {
   "cell_type": "code",
   "execution_count": 8,
   "metadata": {},
   "outputs": [],
   "source": [
    "#read data\n",
    "pd.options.mode.chained_assignment = None\n",
    "covid = pd.read_csv(\"/home/jingxiy1/mast30034-project-1-JingxiYuan/data/raw/data-by-day.csv\")"
   ]
  },
  {
   "cell_type": "code",
   "execution_count": 9,
   "metadata": {},
   "outputs": [
    {
     "data": {
      "image/png": "[encoded data removed]",
      "text/plain": [
       "<Figure size 432x288 with 1 Axes>"
      ]
     },
     "metadata": {
      "needs_background": "light"
     },
     "output_type": "display_data"
    }
   ],
   "source": [
    "#show covid cases\n",
    "import matplotlib.pyplot as plt\n",
    "import numpy as np\n",
    "plt.plot(covid.date_of_interest, covid.CASE_COUNT)\n",
    "plt.xticks(('01/01/2021', '12/01/2021', '01/01/2022', '02/01/2022'),rotation = 90)\n",
    "plt.title('each month covid cases')\n",
    "plt.xlabel('month')\n",
    "plt.ylabel(\"cases\")\n",
    "plt.savefig('/home/jingxiy1/mast30034-project-1-JingxiYuan/plots/each month covid cases.jpg', dpi = 200, bbox_inches = 'tight')\n",
    "plt.show()"
   ]
  },
  {
   "cell_type": "code",
   "execution_count": 10,
   "metadata": {},
   "outputs": [],
   "source": [
    "#Filter reserved columns\n",
    "covid = covid[['date_of_interest', 'CASE_COUNT', 'BX_CASE_COUNT', 'BK_CASE_COUNT', 'MN_CASE_COUNT', 'QN_CASE_COUNT', 'SI_CASE_COUNT']]"
   ]
  },
  {
   "cell_type": "code",
   "execution_count": 11,
   "metadata": {},
   "outputs": [],
   "source": [
    "covid.to_csv('../data/curated/covid.csv')"
   ]
  },
  {
   "cell_type": "markdown",
   "metadata": {},
   "source": [
    "#### data"
   ]
  },
  {
   "cell_type": "code",
   "execution_count": 12,
   "metadata": {},
   "outputs": [],
   "source": [
    "YEAR = '2022'\n",
    "YEAR1 = '2021'\n",
    "# adjust the range function to the numerical months i.e 1 = jan, 2 = feb, etc...\n",
    "# MONTHS = range(1, 13)\n",
    "MONTHS = range(1, 3)"
   ]
  },
  {
   "cell_type": "code",
   "execution_count": 13,
   "metadata": {},
   "outputs": [],
   "source": [
    "# this is the URL template as of 07/2022\n",
    "URL_TEMPLATE = \"https://d37ci6vzurychx.cloudfront.net/trip-data/yellow_tripdata_\"#year-month.parquet\n"
   ]
  },
  {
   "cell_type": "code",
   "execution_count": 14,
   "metadata": {},
   "outputs": [
    {
     "name": "stdout",
     "output_type": "stream",
     "text": [
      "Begin month 01\n",
      "Completed month 01\n",
      "Begin month 02\n",
      "Completed month 02\n",
      "Begin month 12\n",
      "Completed month 12\n"
     ]
    }
   ],
   "source": [
    "# data output directory is `data/tlc_data/`\n",
    "tlc_output_dir = data + 'raw/'\n",
    "\n",
    "for month in MONTHS:\n",
    "    # 0-fill i.e 1 -> 01, 2 -> 02, etc\n",
    "    month = str(month).zfill(2) \n",
    "    print(f\"Begin month {month}\")\n",
    "    \n",
    "    # generate url\n",
    "    url = f'{URL_TEMPLATE}{YEAR}-{month}.parquet'\n",
    "    # generate output location and filename\n",
    "    output_dir = f\"{tlc_output_dir}/{YEAR}-{month}.parquet\"\n",
    "    # download\n",
    "    urlretrieve(url, output_dir) \n",
    "    \n",
    "    print(f\"Completed month {month}\")\n",
    "\n",
    "month = str(12).zfill(2) \n",
    "print(f\"Begin month {12}\")\n",
    "    \n",
    "# generate url\n",
    "url = f'{URL_TEMPLATE}{YEAR1}-{12}.parquet'\n",
    "# generate output location and filename\n",
    "output_dir = f\"{tlc_output_dir}/{'2021'}-{12}.parquet\"\n",
    "# download\n",
    "urlretrieve(url, output_dir) \n",
    "    \n",
    "print(f\"Completed month {12}\")\n",
    "# this code from tutorial 1"
   ]
  },
  {
   "cell_type": "markdown",
   "metadata": {},
   "source": [
    "read data"
   ]
  },
  {
   "cell_type": "code",
   "execution_count": 15,
   "metadata": {},
   "outputs": [],
   "source": [
    "df1 = pd.read_parquet('../data/raw/2021-12.parquet')\n",
    "df2 = pd.read_parquet('../data/raw/2022-01.parquet')\n",
    "df3 = pd.read_parquet('../data/raw/2022-02.parquet')"
   ]
  },
  {
   "cell_type": "code",
   "execution_count": 21,
   "metadata": {},
   "outputs": [
    {
     "data": {
      "text/plain": [
       "<bound method DataFrame.reindex of          VendorID tpep_pickup_datetime tpep_dropoff_datetime  passenger_count  \\\n",
       "0               1  2021-12-01 00:19:51   2021-12-01 00:37:01              1.0   \n",
       "1               2  2021-12-01 00:29:07   2021-12-01 00:45:13              2.0   \n",
       "2               1  2021-12-01 00:12:40   2021-12-01 00:27:17              0.0   \n",
       "3               1  2021-12-01 00:10:18   2021-12-01 00:19:20              1.0   \n",
       "4               1  2021-12-01 00:25:12   2021-12-01 00:39:07              1.0   \n",
       "...           ...                  ...                   ...              ...   \n",
       "2979426         2  2022-02-28 23:50:00   2022-03-01 00:06:00              NaN   \n",
       "2979427         2  2022-02-28 23:06:57   2022-02-28 23:19:12              NaN   \n",
       "2979428         2  2022-02-28 23:48:13   2022-03-01 00:03:33              NaN   \n",
       "2979429         2  2022-02-28 23:56:41   2022-03-01 00:04:57              NaN   \n",
       "2979430         2  2022-02-28 23:04:00   2022-02-28 23:10:00              NaN   \n",
       "\n",
       "         trip_distance  RatecodeID store_and_fwd_flag  PULocationID  \\\n",
       "0                 9.30         1.0                  N           138   \n",
       "1                 2.76         1.0                  N           238   \n",
       "2                 3.40         1.0                  N           239   \n",
       "3                 1.30         1.0                  N           148   \n",
       "4                 3.10         1.0                  N           231   \n",
       "...                ...         ...                ...           ...   \n",
       "2979426           3.40         NaN               None           163   \n",
       "2979427           3.48         NaN               None           141   \n",
       "2979428           3.05         NaN               None           161   \n",
       "2979429           2.62         NaN               None           141   \n",
       "2979430           1.41         NaN               None           237   \n",
       "\n",
       "         DOLocationID  payment_type  fare_amount  extra  mta_tax  tip_amount  \\\n",
       "0                 141             1        26.50   4.25      0.5        7.60   \n",
       "1                  42             2        13.00   0.50      0.5        0.00   \n",
       "2                  74             1        13.50   3.00      0.5        2.00   \n",
       "3                  87             1         6.50   3.00      0.5        2.05   \n",
       "4                 246             1        12.50   3.00      0.5        2.50   \n",
       "...               ...           ...          ...    ...      ...         ...   \n",
       "2979426           193             0        14.37   0.00      0.5        0.00   \n",
       "2979427             4             0        14.51   0.00      0.5        2.00   \n",
       "2979428           151             0        14.38   0.00      0.5        3.81   \n",
       "2979429           226             0        12.53   0.00      0.5        1.71   \n",
       "2979430           142             0         8.80   0.00      0.5        2.57   \n",
       "\n",
       "         tolls_amount  improvement_surcharge  total_amount  \\\n",
       "0                6.55                    0.3         45.70   \n",
       "1                0.00                    0.3         16.80   \n",
       "2                0.00                    0.3         19.30   \n",
       "3                0.00                    0.3         12.35   \n",
       "4                0.00                    0.3         18.80   \n",
       "...               ...                    ...           ...   \n",
       "2979426          0.00                    0.3         17.67   \n",
       "2979427          0.00                    0.3         19.81   \n",
       "2979428          0.00                    0.3         21.49   \n",
       "2979429          0.00                    0.3         17.54   \n",
       "2979430          0.00                    0.3         14.67   \n",
       "\n",
       "         congestion_surcharge  airport_fee  \n",
       "0                         2.5         1.25  \n",
       "1                         2.5         0.00  \n",
       "2                         2.5         0.00  \n",
       "3                         2.5         0.00  \n",
       "4                         2.5         0.00  \n",
       "...                       ...          ...  \n",
       "2979426                   NaN          NaN  \n",
       "2979427                   NaN          NaN  \n",
       "2979428                   NaN          NaN  \n",
       "2979429                   NaN          NaN  \n",
       "2979430                   NaN          NaN  \n",
       "\n",
       "[8657731 rows x 19 columns]>"
      ]
     },
     "execution_count": 21,
     "metadata": {},
     "output_type": "execute_result"
    }
   ],
   "source": [
    "df = pd.concat([df1, df2, df3], axis = 0)\n",
    "df.reindex"
   ]
  },
  {
   "cell_type": "code",
   "execution_count": 22,
   "metadata": {},
   "outputs": [
    {
     "data": {
      "text/plain": [
       "count    8.657731e+06\n",
       "mean     1.028693e+00\n",
       "std      1.248923e+00\n",
       "min     -4.500000e+00\n",
       "25%      0.000000e+00\n",
       "50%      5.000000e-01\n",
       "75%      2.500000e+00\n",
       "max      3.350000e+01\n",
       "Name: extra, dtype: float64"
      ]
     },
     "execution_count": 22,
     "metadata": {},
     "output_type": "execute_result"
    }
   ],
   "source": [
    "df.extra.describe()"
   ]
  },
  {
   "cell_type": "markdown",
   "metadata": {},
   "source": [
    "select columns"
   ]
  },
  {
   "cell_type": "code",
   "execution_count": 23,
   "metadata": {},
   "outputs": [],
   "source": [
    "#Since the amount of other additional fees is too small, this project believes that the driver's income is only about tips_a and fares\n",
    "need_df = df[['tpep_pickup_datetime','tpep_dropoff_datetime','trip_distance','PULocationID','DOLocationID','payment_type','fare_amount','tip_amount']]"
   ]
  },
  {
   "cell_type": "code",
   "execution_count": 24,
   "metadata": {},
   "outputs": [
    {
     "data": {
      "text/html": [
       "<div>\n",
       "<style scoped>\n",
       "    .dataframe tbody tr th:only-of-type {\n",
       "        vertical-align: middle;\n",
       "    }\n",
       "\n",
       "    .dataframe tbody tr th {\n",
       "        vertical-align: top;\n",
       "    }\n",
       "\n",
       "    .dataframe thead th {\n",
       "        text-align: right;\n",
       "    }\n",
       "</style>\n",
       "<table border=\"1\" class=\"dataframe\">\n",
       "  <thead>\n",
       "    <tr style=\"text-align: right;\">\n",
       "      <th></th>\n",
       "      <th>tpep_pickup_datetime</th>\n",
       "      <th>tpep_dropoff_datetime</th>\n",
       "      <th>trip_distance</th>\n",
       "      <th>PULocationID</th>\n",
       "      <th>DOLocationID</th>\n",
       "      <th>payment_type</th>\n",
       "      <th>fare_amount</th>\n",
       "      <th>tip_amount</th>\n",
       "    </tr>\n",
       "  </thead>\n",
       "  <tbody>\n",
       "    <tr>\n",
       "      <th>0</th>\n",
       "      <td>2021-12-01 00:19:51</td>\n",
       "      <td>2021-12-01 00:37:01</td>\n",
       "      <td>9.30</td>\n",
       "      <td>138</td>\n",
       "      <td>141</td>\n",
       "      <td>1</td>\n",
       "      <td>26.5</td>\n",
       "      <td>7.60</td>\n",
       "    </tr>\n",
       "    <tr>\n",
       "      <th>1</th>\n",
       "      <td>2021-12-01 00:29:07</td>\n",
       "      <td>2021-12-01 00:45:13</td>\n",
       "      <td>2.76</td>\n",
       "      <td>238</td>\n",
       "      <td>42</td>\n",
       "      <td>2</td>\n",
       "      <td>13.0</td>\n",
       "      <td>0.00</td>\n",
       "    </tr>\n",
       "    <tr>\n",
       "      <th>2</th>\n",
       "      <td>2021-12-01 00:12:40</td>\n",
       "      <td>2021-12-01 00:27:17</td>\n",
       "      <td>3.40</td>\n",
       "      <td>239</td>\n",
       "      <td>74</td>\n",
       "      <td>1</td>\n",
       "      <td>13.5</td>\n",
       "      <td>2.00</td>\n",
       "    </tr>\n",
       "    <tr>\n",
       "      <th>3</th>\n",
       "      <td>2021-12-01 00:10:18</td>\n",
       "      <td>2021-12-01 00:19:20</td>\n",
       "      <td>1.30</td>\n",
       "      <td>148</td>\n",
       "      <td>87</td>\n",
       "      <td>1</td>\n",
       "      <td>6.5</td>\n",
       "      <td>2.05</td>\n",
       "    </tr>\n",
       "    <tr>\n",
       "      <th>4</th>\n",
       "      <td>2021-12-01 00:25:12</td>\n",
       "      <td>2021-12-01 00:39:07</td>\n",
       "      <td>3.10</td>\n",
       "      <td>231</td>\n",
       "      <td>246</td>\n",
       "      <td>1</td>\n",
       "      <td>12.5</td>\n",
       "      <td>2.50</td>\n",
       "    </tr>\n",
       "  </tbody>\n",
       "</table>\n",
       "</div>"
      ],
      "text/plain": [
       "  tpep_pickup_datetime tpep_dropoff_datetime  trip_distance  PULocationID  \\\n",
       "0  2021-12-01 00:19:51   2021-12-01 00:37:01           9.30           138   \n",
       "1  2021-12-01 00:29:07   2021-12-01 00:45:13           2.76           238   \n",
       "2  2021-12-01 00:12:40   2021-12-01 00:27:17           3.40           239   \n",
       "3  2021-12-01 00:10:18   2021-12-01 00:19:20           1.30           148   \n",
       "4  2021-12-01 00:25:12   2021-12-01 00:39:07           3.10           231   \n",
       "\n",
       "   DOLocationID  payment_type  fare_amount  tip_amount  \n",
       "0           141             1         26.5        7.60  \n",
       "1            42             2         13.0        0.00  \n",
       "2            74             1         13.5        2.00  \n",
       "3            87             1          6.5        2.05  \n",
       "4           246             1         12.5        2.50  "
      ]
     },
     "execution_count": 24,
     "metadata": {},
     "output_type": "execute_result"
    }
   ],
   "source": [
    "need_df.head()"
   ]
  },
  {
   "cell_type": "code",
   "execution_count": 25,
   "metadata": {},
   "outputs": [],
   "source": [
    "need_df.to_parquet('../data/curated/yellow taxi.parquet', compression= 'gzip')"
   ]
  }
 ],
 "metadata": {
  "kernelspec": {
   "display_name": "Python 3.8.13 ('Ads': conda)",
   "language": "python",
   "name": "python3"
  },
  "language_info": {
   "codemirror_mode": {
    "name": "ipython",
    "version": 3
   },
   "file_extension": ".py",
   "mimetype": "text/x-python",
   "name": "python",
   "nbconvert_exporter": "python",
   "pygments_lexer": "ipython3",
   "version": "3.8.13"
  },
  "orig_nbformat": 4,
  "vscode": {
   "interpreter": {
    "hash": "42db4aefde30f3f8bf679d518b78712183186977f8b365fb4ff869b34e12b1a7"
   }
  }
 },
 "nbformat": 4,
 "nbformat_minor": 2
}
